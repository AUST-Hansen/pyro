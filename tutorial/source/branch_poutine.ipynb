{
 "cells": [
  {
   "cell_type": "markdown",
   "metadata": {},
   "source": [
    "# Storyboard: BranchPoutine and parallel enum_discrete"
   ]
  },
  {
   "cell_type": "code",
   "execution_count": null,
   "metadata": {},
   "outputs": [],
   "source": [
    "with ind_outer as iarange(\"outer\"):\n",
    "    z = pyro.sample(\"z\", ..., nn(outer_covariates(ind_outer)))\n",
    "    with ind_inner as iarange(\"inner\"):\n",
    "        w = pyro.sample(\"w\", ..., nn(z, inner_covariates(ind_inner)))\n",
    "        pyro.sample(\"obs1\", ... nn1(w), obs=data1[ind_inner, ind_outer])\n",
    "        pyro.sample(\"obs2\", ... nn2(w), obs=data2[ind_outer, ind_inner])"
   ]
  },
  {
   "cell_type": "code",
   "execution_count": null,
   "metadata": {},
   "outputs": [],
   "source": [
    "with ind_outer as iarange(\"outer\"):\n",
    "    z = pyro.sample(\"z\", ..., nn(outer_covariates(ind_outer)))\n",
    "    with ind_inner as iarange(\"inner\"):\n",
    "        w = pyro.sample(\"w\", ..., nn(z, inner_covariates(ind_inner)))\n",
    "        pyro.sample(\"obs1\", ... nn1(w),\n",
    "                    obs=data1[ind_inner, ind_outer],\n",
    "                    dims=[\"outer\", \"inner\"])\n",
    "        pyro.sample(\"obs2\", ... nn2(w),\n",
    "                    obs=data2[ind_outer, ind_inner]\n",
    "                    dims=[\"outer\", \"inner\"])"
   ]
  },
  {
   "cell_type": "markdown",
   "metadata": {},
   "source": [
    "The following example motivates dim recycling:"
   ]
  },
  {
   "cell_type": "code",
   "execution_count": null,
   "metadata": {},
   "outputs": [],
   "source": [
    "for i in irange(\"outer\"):\n",
    "    with iarange(\"inner\") as ind_inner:\n",
    "        pyro.sample(...)"
   ]
  }
 ],
 "metadata": {
  "kernelspec": {
   "display_name": "Python 2",
   "language": "python",
   "name": "python2"
  },
  "language_info": {
   "codemirror_mode": {
    "name": "ipython",
    "version": 2
   },
   "file_extension": ".py",
   "mimetype": "text/x-python",
   "name": "python",
   "nbconvert_exporter": "python",
   "pygments_lexer": "ipython2",
   "version": "2.7.14"
  }
 },
 "nbformat": 4,
 "nbformat_minor": 2
}
